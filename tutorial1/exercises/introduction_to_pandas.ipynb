{
 "cells": [
  {
   "cell_type": "markdown",
   "id": "ae9ff18c-4772-4f27-8717-9993fd73a058",
   "metadata": {},
   "source": [
    "If you need to work with ASCII files, such as comma separated files (csv), use PANDAS"
   ]
  },
  {
   "cell_type": "markdown",
   "id": "a295e75e-4abf-494a-bae2-97d500a77c06",
   "metadata": {},
   "source": [
    "<img src='static/preview_of_ascii.png' />"
   ]
  },
  {
   "cell_type": "code",
   "execution_count": 28,
   "id": "6a9b8cf7-5b55-4266-a801-9fba50a0eacc",
   "metadata": {},
   "outputs": [],
   "source": [
    "import pandas as pd\n",
    "import numpy as np\n",
    "\n",
    "import matplotlib.pyplot as plt\n",
    "%matplotlib inline"
   ]
  },
  {
   "cell_type": "markdown",
   "id": "779cc226-d4c5-466a-a6d6-b5ded9b069f4",
   "metadata": {},
   "source": [
    "### Load the data file"
   ]
  },
  {
   "cell_type": "code",
   "execution_count": 24,
   "id": "f955a070-dee5-4d5b-bdb0-2a0ee38c87cb",
   "metadata": {},
   "outputs": [],
   "source": [
    "csv_filename = \"../../data/total.csv\"\n",
    "pd_object = pd.read_csv(csv_filename)"
   ]
  },
  {
   "cell_type": "markdown",
   "id": "17b74e3a-b2bf-4a15-9a3c-c30367a85d80",
   "metadata": {},
   "source": [
    "### display the data"
   ]
  },
  {
   "cell_type": "code",
   "execution_count": 25,
   "id": "001ffeb1-8307-4e52-9b50-556d5242b1d0",
   "metadata": {},
   "outputs": [
    {
     "data": {
      "text/html": [
       "<div>\n",
       "<style scoped>\n",
       "    .dataframe tbody tr th:only-of-type {\n",
       "        vertical-align: middle;\n",
       "    }\n",
       "\n",
       "    .dataframe tbody tr th {\n",
       "        vertical-align: top;\n",
       "    }\n",
       "\n",
       "    .dataframe thead th {\n",
       "        text-align: right;\n",
       "    }\n",
       "</style>\n",
       "<table border=\"1\" class=\"dataframe\">\n",
       "  <thead>\n",
       "    <tr style=\"text-align: right;\">\n",
       "      <th></th>\n",
       "      <th># d-spacing</th>\n",
       "      <th>counts</th>\n",
       "      <th>errors</th>\n",
       "    </tr>\n",
       "  </thead>\n",
       "  <tbody>\n",
       "    <tr>\n",
       "      <th>0</th>\n",
       "      <td>12.025</td>\n",
       "      <td>545.0</td>\n",
       "      <td>23.345235</td>\n",
       "    </tr>\n",
       "    <tr>\n",
       "      <th>1</th>\n",
       "      <td>12.075</td>\n",
       "      <td>579.0</td>\n",
       "      <td>24.062419</td>\n",
       "    </tr>\n",
       "    <tr>\n",
       "      <th>2</th>\n",
       "      <td>12.125</td>\n",
       "      <td>528.0</td>\n",
       "      <td>22.978251</td>\n",
       "    </tr>\n",
       "    <tr>\n",
       "      <th>3</th>\n",
       "      <td>12.175</td>\n",
       "      <td>545.0</td>\n",
       "      <td>23.345235</td>\n",
       "    </tr>\n",
       "    <tr>\n",
       "      <th>4</th>\n",
       "      <td>12.225</td>\n",
       "      <td>541.0</td>\n",
       "      <td>23.259407</td>\n",
       "    </tr>\n",
       "    <tr>\n",
       "      <th>...</th>\n",
       "      <td>...</td>\n",
       "      <td>...</td>\n",
       "      <td>...</td>\n",
       "    </tr>\n",
       "    <tr>\n",
       "      <th>155</th>\n",
       "      <td>19.775</td>\n",
       "      <td>17.0</td>\n",
       "      <td>4.123106</td>\n",
       "    </tr>\n",
       "    <tr>\n",
       "      <th>156</th>\n",
       "      <td>19.825</td>\n",
       "      <td>19.0</td>\n",
       "      <td>4.358899</td>\n",
       "    </tr>\n",
       "    <tr>\n",
       "      <th>157</th>\n",
       "      <td>19.875</td>\n",
       "      <td>4.0</td>\n",
       "      <td>2.000000</td>\n",
       "    </tr>\n",
       "    <tr>\n",
       "      <th>158</th>\n",
       "      <td>19.925</td>\n",
       "      <td>8.0</td>\n",
       "      <td>2.828427</td>\n",
       "    </tr>\n",
       "    <tr>\n",
       "      <th>159</th>\n",
       "      <td>19.975</td>\n",
       "      <td>10.0</td>\n",
       "      <td>3.162278</td>\n",
       "    </tr>\n",
       "  </tbody>\n",
       "</table>\n",
       "<p>160 rows × 3 columns</p>\n",
       "</div>"
      ],
      "text/plain": [
       "     # d-spacing   counts     errors\n",
       "0         12.025    545.0  23.345235\n",
       "1         12.075    579.0  24.062419\n",
       "2         12.125    528.0  22.978251\n",
       "3         12.175    545.0  23.345235\n",
       "4         12.225    541.0  23.259407\n",
       "..           ...      ...        ...\n",
       "155       19.775     17.0   4.123106\n",
       "156       19.825     19.0   4.358899\n",
       "157       19.875      4.0   2.000000\n",
       "158       19.925      8.0   2.828427\n",
       "159       19.975     10.0   3.162278\n",
       "\n",
       "[160 rows x 3 columns]"
      ]
     },
     "execution_count": 25,
     "metadata": {},
     "output_type": "execute_result"
    }
   ],
   "source": [
    "pd_object"
   ]
  },
  {
   "cell_type": "code",
   "execution_count": 31,
   "id": "5800e072-c7d8-4f3d-ba44-0ed2abd56ba1",
   "metadata": {},
   "outputs": [],
   "source": [
    "x_axis = pd_object['# d-spacing']\n",
    "x_axis = np.array(x_axis)\n",
    "\n",
    "y_axis = np.array(pd_object[' counts'])\n",
    "\n",
    "y_error = np.array(pd_object[' errors'])"
   ]
  },
  {
   "cell_type": "code",
   "execution_count": 42,
   "id": "1bff5b4f-e7c9-4950-9eae-f01c058e0cb4",
   "metadata": {},
   "outputs": [
    {
     "data": {
      "text/plain": [
       "<ErrorbarContainer object of 3 artists>"
      ]
     },
     "execution_count": 42,
     "metadata": {},
     "output_type": "execute_result"
    },
    {
     "data": {
      "image/png": "[encoded data removed]",
      "text/plain": [
       "<Figure size 1000x1000 with 1 Axes>"
      ]
     },
     "metadata": {},
     "output_type": "display_data"
    }
   ],
   "source": [
    "fig, ax = plt.subplots(nrows=1, ncols=1, figsize=(10,10), num=csv_filename)\n",
    "ax.errorbar(x_axis, y_axis, yerr=y_error, color='red', marker='.', linestyle='')"
   ]
  },
  {
   "cell_type": "code",
   "execution_count": null,
   "id": "6cec6919-0e24-486b-8d1b-beb6da1b0717",
   "metadata": {},
   "outputs": [],
   "source": []
  },
  {
   "cell_type": "code",
   "execution_count": null,
   "id": "c7e38fbc-d157-42f9-ae1e-05bd361ed8af",
   "metadata": {},
   "outputs": [],
   "source": []
  }
 ],
 "metadata": {
  "kernelspec": {
   "display_name": "Python 3 (ipykernel)",
   "language": "python",
   "name": "python3"
  },
  "language_info": {
   "codemirror_mode": {
    "name": "ipython",
    "version": 3
   },
   "file_extension": ".py",
   "mimetype": "text/x-python",
   "name": "python",
   "nbconvert_exporter": "python",
   "pygments_lexer": "ipython3",
   "version": "3.11.4"
  }
 },
 "nbformat": 4,
 "nbformat_minor": 5
}
