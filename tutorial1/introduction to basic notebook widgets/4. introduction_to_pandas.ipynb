{
 "cells": [
  {
   "cell_type": "markdown",
   "id": "ae9ff18c-4772-4f27-8717-9993fd73a058",
   "metadata": {},
   "source": [
    "If you need to work with ASCII files, such as comma separated files (csv), use PANDAS"
   ]
  },
  {
   "cell_type": "markdown",
   "id": "a295e75e-4abf-494a-bae2-97d500a77c06",
   "metadata": {},
   "source": [
    "<img src='static/preview_of_ascii.png' />"
   ]
  },
  {
   "cell_type": "code",
   "execution_count": null,
   "id": "6a9b8cf7-5b55-4266-a801-9fba50a0eacc",
   "metadata": {},
   "outputs": [],
   "source": [
    "import pandas as pd\n",
    "import numpy as np\n",
    "\n",
    "import matplotlib.pyplot as plt\n",
    "%matplotlib inline"
   ]
  },
  {
   "cell_type": "markdown",
   "id": "779cc226-d4c5-466a-a6d6-b5ded9b069f4",
   "metadata": {},
   "source": [
    "### Load the data file"
   ]
  },
  {
   "cell_type": "code",
   "execution_count": null,
   "id": "f955a070-dee5-4d5b-bdb0-2a0ee38c87cb",
   "metadata": {},
   "outputs": [],
   "source": [
    "csv_filename = \"../../data/total.csv\"\n",
    "pd_object = pd.read_csv(csv_filename)"
   ]
  },
  {
   "cell_type": "markdown",
   "id": "17b74e3a-b2bf-4a15-9a3c-c30367a85d80",
   "metadata": {},
   "source": [
    "### display the data"
   ]
  },
  {
   "cell_type": "code",
   "execution_count": null,
   "id": "001ffeb1-8307-4e52-9b50-556d5242b1d0",
   "metadata": {},
   "outputs": [],
   "source": [
    "pd_object"
   ]
  },
  {
   "cell_type": "code",
   "execution_count": null,
   "id": "5800e072-c7d8-4f3d-ba44-0ed2abd56ba1",
   "metadata": {},
   "outputs": [],
   "source": [
    "x_axis = pd_object['# d-spacing']\n",
    "x_axis = np.array(x_axis)\n",
    "\n",
    "y_axis = np.array(pd_object[' counts'])\n",
    "\n",
    "y_error = np.array(pd_object[' errors'])"
   ]
  },
  {
   "cell_type": "code",
   "execution_count": null,
   "id": "1bff5b4f-e7c9-4950-9eae-f01c058e0cb4",
   "metadata": {},
   "outputs": [],
   "source": [
    "fig, ax = plt.subplots(nrows=1, ncols=1, figsize=(10,10), num=csv_filename)\n",
    "ax.errorbar(x_axis, y_axis, yerr=y_error, color='red', marker='.', linestyle='')"
   ]
  },
  {
   "cell_type": "code",
   "execution_count": null,
   "id": "6cec6919-0e24-486b-8d1b-beb6da1b0717",
   "metadata": {},
   "outputs": [],
   "source": []
  },
  {
   "cell_type": "code",
   "execution_count": null,
   "id": "c7e38fbc-d157-42f9-ae1e-05bd361ed8af",
   "metadata": {},
   "outputs": [],
   "source": []
  }
 ],
 "metadata": {
  "kernelspec": {
   "display_name": "Python 3 (ipykernel)",
   "language": "python",
   "name": "python3"
  },
  "language_info": {
   "codemirror_mode": {
    "name": "ipython",
    "version": 3
   },
   "file_extension": ".py",
   "mimetype": "text/x-python",
   "name": "python",
   "nbconvert_exporter": "python",
   "pygments_lexer": "ipython3",
   "version": "3.12.4"
  }
 },
 "nbformat": 4,
 "nbformat_minor": 5
}
