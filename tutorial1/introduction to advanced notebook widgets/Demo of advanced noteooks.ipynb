{
 "cells": [
  {
   "cell_type": "markdown",
   "id": "53d53de7-17d7-4c0c-88e3-bbd387b9c9a3",
   "metadata": {},
   "source": [
    "# Examples of notebooks\n",
    "\n",
    "This is just to give you an idea of what you can do with the notebooks"
   ]
  },
  {
   "cell_type": "markdown",
   "id": "6e0f1572-df47-42bb-bd2e-48dfa620b9ec",
   "metadata": {},
   "source": [
    "## 1. Great for teaching or explaning step by step what the notebook does "
   ]
  },
  {
   "cell_type": "markdown",
   "id": "69fc8c25-d4c8-42e2-a608-7e4c2f0d9215",
   "metadata": {
    "execution": {
     "iopub.execute_input": "2024-08-01T13:23:57.489247Z",
     "iopub.status.busy": "2024-08-01T13:23:57.488857Z",
     "iopub.status.idle": "2024-08-01T13:23:57.491885Z",
     "shell.execute_reply": "2024-08-01T13:23:57.491490Z",
     "shell.execute_reply.started": "2024-08-01T13:23:57.489233Z"
    }
   },
   "source": [
    "Anders Kaestner lectures notebooks\n",
    "[<img src='static/example_of_notebook_1.png'></img>](https://imaginglectures.github.io/Quantitative-Big-Imaging-2024)\n"
   ]
  },
  {
   "cell_type": "markdown",
   "id": "89b4f65d-9283-4bab-bd3b-6fb8ac027b73",
   "metadata": {},
   "source": [
    "## 2. Can incorporate more complex widgets (embedded or not) "
   ]
  },
  {
   "cell_type": "markdown",
   "id": "04a06dad-3ad0-46a6-aa59-abaf1786f513",
   "metadata": {},
   "source": [
    "Notebook with pyqt user interface launched directly from one of the cell\n",
    "\n",
    "[<img src='static/example_of_notebook_2.png'></img>](https://neutronimaging.ornl.gov/tutorials/imaging-notebooks/profile/linear-profile)"
   ]
  }
 ],
 "metadata": {
  "kernelspec": {
   "display_name": "Python 3 (ipykernel)",
   "language": "python",
   "name": "python3"
  },
  "language_info": {
   "codemirror_mode": {
    "name": "ipython",
    "version": 3
   },
   "file_extension": ".py",
   "mimetype": "text/x-python",
   "name": "python",
   "nbconvert_exporter": "python",
   "pygments_lexer": "ipython3",
   "version": "3.12.4"
  }
 },
 "nbformat": 4,
 "nbformat_minor": 5
}
